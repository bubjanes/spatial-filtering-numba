{
 "cells": [
  {
   "cell_type": "markdown",
   "metadata": {},
   "source": [
    "# MAP ALEGBRA"
   ]
  },
  {
   "cell_type": "code",
   "execution_count": 46,
   "metadata": {},
   "outputs": [],
   "source": [
    "import numpy as np\n",
    "import pandas as pd\n",
    "from scipy.ndimage.filters import generic_filter\n",
    "from numba import jit"
   ]
  },
  {
   "cell_type": "code",
   "execution_count": 21,
   "metadata": {},
   "outputs": [
    {
     "data": {
      "text/plain": [
       "array([[1, 8, 4],\n",
       "       [0, 2, 9],\n",
       "       [3, 8, 9]])"
      ]
     },
     "execution_count": 21,
     "metadata": {},
     "output_type": "execute_result"
    }
   ],
   "source": [
    "c = np.random.randint(0, 10, 9)\n",
    "indata_sm = np.reshape(c, (3,3))\n",
    "indata_sm"
   ]
  },
  {
   "cell_type": "code",
   "execution_count": 30,
   "metadata": {},
   "outputs": [
    {
     "data": {
      "text/plain": [
       "array([[ 1.,  8.,  4.],\n",
       "       [ 0., nan,  9.],\n",
       "       [ 3.,  8.,  9.]])"
      ]
     },
     "execution_count": 30,
     "metadata": {},
     "output_type": "execute_result"
    }
   ],
   "source": [
    "# write a null in the middle\n",
    "indata = np.where(indata_sm==2, np.nan, indata_sm) \n",
    "indata"
   ]
  },
  {
   "cell_type": "markdown",
   "metadata": {},
   "source": [
    "Replace ```nan```(null) values with the mean from the array"
   ]
  },
  {
   "cell_type": "code",
   "execution_count": 29,
   "metadata": {},
   "outputs": [
    {
     "data": {
      "text/plain": [
       "array([[1.  , 8.  , 4.  ],\n",
       "       [0.  , 5.25, 9.  ],\n",
       "       [3.  , 8.  , 9.  ]])"
      ]
     },
     "execution_count": 29,
     "metadata": {},
     "output_type": "execute_result"
    }
   ],
   "source": [
    "# The middle value is calculated based on \n",
    "# its surrounding neighbors in the input dataset \n",
    "np.where(np.isnan(indata),\n",
    "         np.nanmean(indata),indata)"
   ]
  },
  {
   "cell_type": "markdown",
   "metadata": {},
   "source": [
    "Now we will use the 3 x 3 matrix as a map or \"filter footprint\" and apply it to a \"raster\" matrix to eliminate ```nan``` values. This process is called smoothing."
   ]
  },
  {
   "cell_type": "markdown",
   "metadata": {},
   "source": [
    "#### A random-generated raster dataset:"
   ]
  },
  {
   "cell_type": "code",
   "execution_count": 37,
   "metadata": {},
   "outputs": [
    {
     "data": {
      "text/plain": [
       "array([[nan,  7.,  1.,  2.,  1.,  2.,  6.,  7.],\n",
       "       [ 6.,  6.,  6.,  5.,  3.,  7.,  8.,  1.],\n",
       "       [ 2.,  9.,  7.,  6.,  4.,  9.,  2.,  9.],\n",
       "       [nan, nan,  3.,  9.,  1.,  5.,  6.,  7.],\n",
       "       [ 7.,  2.,  8.,  6.,  2.,  1.,  9.,  6.],\n",
       "       [ 2.,  1.,  8.,  7.,  2.,  5., nan,  1.],\n",
       "       [ 1., nan,  3.,  7.,  8.,  7.,  9.,  9.],\n",
       "       [ 4.,  4.,  1.,  4.,  3.,  9.,  6.,  8.]])"
      ]
     },
     "execution_count": 37,
     "metadata": {},
     "output_type": "execute_result"
    }
   ],
   "source": [
    "a = np.random.randint(0, 10, 64)\n",
    "indata01 = np.reshape(a, (8,8))\n",
    "indata_w_null = np.where(indata01==0, np.nan, indata01) # replace all zero values with nan\n",
    "indata_w_null"
   ]
  },
  {
   "cell_type": "markdown",
   "metadata": {},
   "source": [
    "### SciPy Generic Filter\n",
    "We must pass the following parameters:\n",
    "* footprint - a 3 x 3 array\n",
    "* function - what our convolution should do\n",
    "* mode - this has to do with what to do at the borders\n",
    "\n",
    "See docs for more info: https://docs.scipy.org/doc/scipy-0.16.1/reference/generated/scipy.ndimage.filters.generic_filter.html"
   ]
  },
  {
   "cell_type": "code",
   "execution_count": 50,
   "metadata": {},
   "outputs": [],
   "source": [
    "@jit\n",
    "def conv_mapping(x):\n",
    "    \"\"\"\n",
    "    If the forth value of the filter array (the center of the window) \n",
    "    is nan, replace it with the mean of the surrounding values.\n",
    "    \"\"\"\n",
    "    if np.isnan(x[4]) and not np.isnan(np.delete(x, 4)).all():\n",
    "        return np.nanmean(np.delete(x, 4))\n",
    "    else:\n",
    "        return x[4]"
   ]
  },
  {
   "cell_type": "code",
   "execution_count": 39,
   "metadata": {},
   "outputs": [],
   "source": [
    "# our filter footprint\n",
    "fp=np.ones((3, 3))"
   ]
  },
  {
   "cell_type": "code",
   "execution_count": 43,
   "metadata": {},
   "outputs": [
    {
     "data": {
      "text/plain": [
       "array([[6.33333333, 7.        , 1.        , 2.        , 1.        ,\n",
       "        2.        , 6.        , 7.        ],\n",
       "       [6.        , 6.        , 6.        , 5.        , 3.        ,\n",
       "        7.        , 8.        , 1.        ],\n",
       "       [2.        , 9.        , 7.        , 6.        , 4.        ,\n",
       "        9.        , 2.        , 9.        ],\n",
       "       [5.        , 5.42857143, 3.        , 9.        , 1.        ,\n",
       "        5.        , 6.        , 7.        ],\n",
       "       [7.        , 2.        , 8.        , 6.        , 2.        ,\n",
       "        1.        , 9.        , 6.        ],\n",
       "       [2.        , 1.        , 8.        , 7.        , 2.        ,\n",
       "        5.        , 5.875     , 1.        ],\n",
       "       [1.        , 3.        , 3.        , 7.        , 8.        ,\n",
       "        7.        , 9.        , 9.        ],\n",
       "       [4.        , 4.        , 1.        , 4.        , 3.        ,\n",
       "        9.        , 6.        , 8.        ]])"
      ]
     },
     "execution_count": 43,
     "metadata": {},
     "output_type": "execute_result"
    }
   ],
   "source": [
    "generic_filter(indata_w_null,conv_mapping,footprint=fp, mode='constant', cval=np.NaN)"
   ]
  },
  {
   "cell_type": "code",
   "execution_count": 45,
   "metadata": {},
   "outputs": [
    {
     "data": {
      "text/plain": [
       "array([[nan,  7.,  1.,  2.,  1.,  2.,  6.,  7.],\n",
       "       [ 6.,  6.,  6.,  5.,  3.,  7.,  8.,  1.],\n",
       "       [ 2.,  9.,  7.,  6.,  4.,  9.,  2.,  9.],\n",
       "       [nan, nan,  3.,  9.,  1.,  5.,  6.,  7.],\n",
       "       [ 7.,  2.,  8.,  6.,  2.,  1.,  9.,  6.],\n",
       "       [ 2.,  1.,  8.,  7.,  2.,  5., nan,  1.],\n",
       "       [ 1., nan,  3.,  7.,  8.,  7.,  9.,  9.],\n",
       "       [ 4.,  4.,  1.,  4.,  3.,  9.,  6.,  8.]])"
      ]
     },
     "execution_count": 45,
     "metadata": {},
     "output_type": "execute_result"
    }
   ],
   "source": [
    "# compare the \"smooth\" above to original below\n",
    "indata_w_null"
   ]
  },
  {
   "cell_type": "markdown",
   "metadata": {},
   "source": [
    "## Now let's do it at scale with Numba"
   ]
  },
  {
   "cell_type": "code",
   "execution_count": 2,
   "metadata": {},
   "outputs": [],
   "source": [
    "df = pd.read_csv(\"data/cell_data.csv\")\n",
    "df1 = df.drop(columns=['celda_id', 'Unnamed: 0'])\n",
    "cells = df1.set_index(['x', 'y']).sort_index()"
   ]
  },
  {
   "cell_type": "code",
   "execution_count": 3,
   "metadata": {},
   "outputs": [
    {
     "data": {
      "text/plain": [
       "(98558, 3)"
      ]
     },
     "execution_count": 3,
     "metadata": {},
     "output_type": "execute_result"
    }
   ],
   "source": [
    "cells.shape"
   ]
  },
  {
   "cell_type": "code",
   "execution_count": 4,
   "metadata": {},
   "outputs": [
    {
     "data": {
      "text/plain": [
       "(98558, 3)"
      ]
     },
     "execution_count": 4,
     "metadata": {},
     "output_type": "execute_result"
    }
   ],
   "source": [
    "cells[cells.isnull()==False].shape"
   ]
  },
  {
   "cell_type": "code",
   "execution_count": 5,
   "metadata": {},
   "outputs": [],
   "source": [
    "raster = cells.to_xarray()"
   ]
  },
  {
   "cell_type": "code",
   "execution_count": 14,
   "metadata": {},
   "outputs": [],
   "source": [
    "@jit\n",
    "def conv_mapping(x):\n",
    "    if np.isnan(x[4]) and not np.isnan(np.delete(x, 4)).all():\n",
    "        return np.nanmean(np.delete(x, 4))\n",
    "    else:\n",
    "        return x[4]"
   ]
  },
  {
   "cell_type": "code",
   "execution_count": 51,
   "metadata": {},
   "outputs": [],
   "source": [
    "@jit\n",
    "def smoothing(dframe):\n",
    "    for col in dframe.columns[dframe.columns != 'celda_id'].tolist():\n",
    "        raster[col].values = generic_filter(\n",
    "            input=raster[col].values,\n",
    "            function=conv_mapping,\n",
    "            footprint=np.ones((3, 3)), mode='constant', cval=np.NaN)\n",
    "    return raster"
   ]
  },
  {
   "cell_type": "code",
   "execution_count": 16,
   "metadata": {},
   "outputs": [],
   "source": [
    "solution = smoothing(cells)"
   ]
  },
  {
   "cell_type": "code",
   "execution_count": 17,
   "metadata": {},
   "outputs": [
    {
     "data": {
      "text/plain": [
       "Coordinates:\n",
       "  * x        (x) float64 3.331e+05 3.331e+05 3.331e+05 ... 3.431e+05 3.431e+05\n",
       "  * y        (y) float64 6.185e+06 6.185e+06 6.185e+06 ... 6.19e+06 6.19e+06"
      ]
     },
     "execution_count": 17,
     "metadata": {},
     "output_type": "execute_result"
    }
   ],
   "source": [
    "solution.coords"
   ]
  },
  {
   "cell_type": "code",
   "execution_count": 18,
   "metadata": {},
   "outputs": [
    {
     "data": {
      "text/plain": [
       "<bound method Dataset.isel of <xarray.Dataset>\n",
       "Dimensions:     (x: 973, y: 1050)\n",
       "Coordinates:\n",
       "  * x           (x) float64 3.331e+05 3.331e+05 ... 3.431e+05 3.431e+05\n",
       "  * y           (y) float64 6.185e+06 6.185e+06 6.185e+06 ... 6.19e+06 6.19e+06\n",
       "Data variables:\n",
       "    VELOCIDAD   (x, y) float64 nan nan nan nan nan nan ... nan nan nan nan nan\n",
       "    DOSIS OBJE  (x, y) float64 nan nan nan nan nan nan ... nan nan nan nan nan\n",
       "    DOSIS SEMI  (x, y) float64 nan nan nan nan nan nan ... nan nan nan nan nan>"
      ]
     },
     "execution_count": 18,
     "metadata": {},
     "output_type": "execute_result"
    }
   ],
   "source": [
    "solution.isel"
   ]
  },
  {
   "cell_type": "code",
   "execution_count": null,
   "metadata": {},
   "outputs": [
    {
     "data": {
      "text/plain": [
       "<matplotlib.collections.QuadMesh at 0x7fe5283c5a10>"
      ]
     },
     "execution_count": 19,
     "metadata": {},
     "output_type": "execute_result"
    }
   ],
   "source": [
    "raster.VELOCIDAD.plot()"
   ]
  },
  {
   "cell_type": "code",
   "execution_count": null,
   "metadata": {},
   "outputs": [],
   "source": [
    "solution.VELOCIDAD.plot()"
   ]
  },
  {
   "cell_type": "code",
   "execution_count": null,
   "metadata": {},
   "outputs": [],
   "source": []
  },
  {
   "cell_type": "code",
   "execution_count": 75,
   "metadata": {},
   "outputs": [
    {
     "data": {
      "text/html": [
       "<div>\n",
       "<style scoped>\n",
       "    .dataframe tbody tr th:only-of-type {\n",
       "        vertical-align: middle;\n",
       "    }\n",
       "\n",
       "    .dataframe tbody tr th {\n",
       "        vertical-align: top;\n",
       "    }\n",
       "\n",
       "    .dataframe thead th {\n",
       "        text-align: right;\n",
       "    }\n",
       "</style>\n",
       "<table border=\"1\" class=\"dataframe\">\n",
       "  <thead>\n",
       "    <tr style=\"text-align: right;\">\n",
       "      <th></th>\n",
       "      <th>VELOCIDAD</th>\n",
       "      <th>DOSIS OBJE</th>\n",
       "      <th>DOSIS SEMI</th>\n",
       "    </tr>\n",
       "  </thead>\n",
       "  <tbody>\n",
       "    <tr>\n",
       "      <th>count</th>\n",
       "      <td>98558.000000</td>\n",
       "      <td>98558.000000</td>\n",
       "      <td>98558.000000</td>\n",
       "    </tr>\n",
       "    <tr>\n",
       "      <th>mean</th>\n",
       "      <td>6.993043</td>\n",
       "      <td>34.319030</td>\n",
       "      <td>33.666604</td>\n",
       "    </tr>\n",
       "    <tr>\n",
       "      <th>std</th>\n",
       "      <td>1.390845</td>\n",
       "      <td>5.456466</td>\n",
       "      <td>6.640882</td>\n",
       "    </tr>\n",
       "    <tr>\n",
       "      <th>min</th>\n",
       "      <td>0.000000</td>\n",
       "      <td>0.000000</td>\n",
       "      <td>0.000000</td>\n",
       "    </tr>\n",
       "    <tr>\n",
       "      <th>25%</th>\n",
       "      <td>6.500000</td>\n",
       "      <td>32.000000</td>\n",
       "      <td>30.300000</td>\n",
       "    </tr>\n",
       "    <tr>\n",
       "      <th>50%</th>\n",
       "      <td>6.833333</td>\n",
       "      <td>36.000000</td>\n",
       "      <td>35.466667</td>\n",
       "    </tr>\n",
       "    <tr>\n",
       "      <th>75%</th>\n",
       "      <td>7.075000</td>\n",
       "      <td>38.666667</td>\n",
       "      <td>38.500000</td>\n",
       "    </tr>\n",
       "    <tr>\n",
       "      <th>max</th>\n",
       "      <td>241.700000</td>\n",
       "      <td>42.000000</td>\n",
       "      <td>81.950000</td>\n",
       "    </tr>\n",
       "  </tbody>\n",
       "</table>\n",
       "</div>"
      ],
      "text/plain": [
       "          VELOCIDAD    DOSIS OBJE    DOSIS SEMI\n",
       "count  98558.000000  98558.000000  98558.000000\n",
       "mean       6.993043     34.319030     33.666604\n",
       "std        1.390845      5.456466      6.640882\n",
       "min        0.000000      0.000000      0.000000\n",
       "25%        6.500000     32.000000     30.300000\n",
       "50%        6.833333     36.000000     35.466667\n",
       "75%        7.075000     38.666667     38.500000\n",
       "max      241.700000     42.000000     81.950000"
      ]
     },
     "execution_count": 75,
     "metadata": {},
     "output_type": "execute_result"
    }
   ],
   "source": [
    "cells.describe()"
   ]
  },
  {
   "cell_type": "code",
   "execution_count": 69,
   "metadata": {},
   "outputs": [
    {
     "data": {
      "text/html": [
       "<div>\n",
       "<style scoped>\n",
       "    .dataframe tbody tr th:only-of-type {\n",
       "        vertical-align: middle;\n",
       "    }\n",
       "\n",
       "    .dataframe tbody tr th {\n",
       "        vertical-align: top;\n",
       "    }\n",
       "\n",
       "    .dataframe thead th {\n",
       "        text-align: right;\n",
       "    }\n",
       "</style>\n",
       "<table border=\"1\" class=\"dataframe\">\n",
       "  <thead>\n",
       "    <tr style=\"text-align: right;\">\n",
       "      <th></th>\n",
       "      <th>VELOCIDAD</th>\n",
       "      <th>DOSIS OBJE</th>\n",
       "      <th>DOSIS SEMI</th>\n",
       "    </tr>\n",
       "  </thead>\n",
       "  <tbody>\n",
       "    <tr>\n",
       "      <th>count</th>\n",
       "      <td>541182.000000</td>\n",
       "      <td>541182.000000</td>\n",
       "      <td>541182.000000</td>\n",
       "    </tr>\n",
       "    <tr>\n",
       "      <th>mean</th>\n",
       "      <td>6.940606</td>\n",
       "      <td>34.231799</td>\n",
       "      <td>33.340936</td>\n",
       "    </tr>\n",
       "    <tr>\n",
       "      <th>std</th>\n",
       "      <td>2.048461</td>\n",
       "      <td>5.950976</td>\n",
       "      <td>7.314550</td>\n",
       "    </tr>\n",
       "    <tr>\n",
       "      <th>min</th>\n",
       "      <td>0.000000</td>\n",
       "      <td>0.000000</td>\n",
       "      <td>0.000000</td>\n",
       "    </tr>\n",
       "    <tr>\n",
       "      <th>25%</th>\n",
       "      <td>6.450000</td>\n",
       "      <td>32.000000</td>\n",
       "      <td>30.138889</td>\n",
       "    </tr>\n",
       "    <tr>\n",
       "      <th>50%</th>\n",
       "      <td>6.800000</td>\n",
       "      <td>36.000000</td>\n",
       "      <td>35.450000</td>\n",
       "    </tr>\n",
       "    <tr>\n",
       "      <th>75%</th>\n",
       "      <td>7.037500</td>\n",
       "      <td>38.833333</td>\n",
       "      <td>38.500000</td>\n",
       "    </tr>\n",
       "    <tr>\n",
       "      <th>max</th>\n",
       "      <td>241.700000</td>\n",
       "      <td>42.000000</td>\n",
       "      <td>81.950000</td>\n",
       "    </tr>\n",
       "  </tbody>\n",
       "</table>\n",
       "</div>"
      ],
      "text/plain": [
       "           VELOCIDAD     DOSIS OBJE     DOSIS SEMI\n",
       "count  541182.000000  541182.000000  541182.000000\n",
       "mean        6.940606      34.231799      33.340936\n",
       "std         2.048461       5.950976       7.314550\n",
       "min         0.000000       0.000000       0.000000\n",
       "25%         6.450000      32.000000      30.138889\n",
       "50%         6.800000      36.000000      35.450000\n",
       "75%         7.037500      38.833333      38.500000\n",
       "max       241.700000      42.000000      81.950000"
      ]
     },
     "execution_count": 69,
     "metadata": {},
     "output_type": "execute_result"
    }
   ],
   "source": [
    "solution.describe()"
   ]
  },
  {
   "cell_type": "code",
   "execution_count": 99,
   "metadata": {},
   "outputs": [
    {
     "data": {
      "text/plain": [
       "x              y           \n",
       "333053.607111  6.184531e+06   NaN\n",
       "               6.184531e+06   NaN\n",
       "               6.184531e+06   NaN\n",
       "               6.184546e+06   NaN\n",
       "               6.184546e+06   NaN\n",
       "                               ..\n",
       "343133.607111  6.189616e+06   NaN\n",
       "               6.189616e+06   NaN\n",
       "               6.189631e+06   NaN\n",
       "               6.189631e+06   NaN\n",
       "               6.189646e+06   NaN\n",
       "Name: VELOCIDAD, Length: 1021650, dtype: float64"
      ]
     },
     "execution_count": 99,
     "metadata": {},
     "output_type": "execute_result"
    }
   ],
   "source": [
    "vel = solution.VELOCIDAD\n",
    "vel"
   ]
  },
  {
   "cell_type": "code",
   "execution_count": 100,
   "metadata": {},
   "outputs": [
    {
     "ename": "AttributeError",
     "evalue": "'Series' object has no attribute 'coords'",
     "output_type": "error",
     "traceback": [
      "\u001b[0;31m---------------------------------------------------------------------------\u001b[0m",
      "\u001b[0;31mAttributeError\u001b[0m                            Traceback (most recent call last)",
      "\u001b[0;32m<ipython-input-100-8aa7d13e43fb>\u001b[0m in \u001b[0;36m<module>\u001b[0;34m\u001b[0m\n\u001b[1;32m      4\u001b[0m \u001b[0;34m\u001b[0m\u001b[0m\n\u001b[1;32m      5\u001b[0m \u001b[0;31m# The first plot (in kelvins) chooses \"viridis\" and uses the data's min/max\u001b[0m\u001b[0;34m\u001b[0m\u001b[0;34m\u001b[0m\u001b[0;34m\u001b[0m\u001b[0m\n\u001b[0;32m----> 6\u001b[0;31m \u001b[0mvel\u001b[0m\u001b[0;34m.\u001b[0m\u001b[0mcoords\u001b[0m\u001b[0;31m#, cbar_kwargs={'label': 'K'})\u001b[0m\u001b[0;34m\u001b[0m\u001b[0;34m\u001b[0m\u001b[0m\n\u001b[0m\u001b[1;32m      7\u001b[0m \u001b[0;31m# ax1.set_title('Kelvins: default')\u001b[0m\u001b[0;34m\u001b[0m\u001b[0;34m\u001b[0m\u001b[0;34m\u001b[0m\u001b[0m\n\u001b[1;32m      8\u001b[0m \u001b[0;31m# ax2.set_xlabel('')\u001b[0m\u001b[0;34m\u001b[0m\u001b[0;34m\u001b[0m\u001b[0;34m\u001b[0m\u001b[0m\n",
      "\u001b[0;32m~/Desktop/numba-convolutional-smoothing/venv/lib/python3.7/site-packages/pandas/core/generic.py\u001b[0m in \u001b[0;36m__getattr__\u001b[0;34m(self, name)\u001b[0m\n\u001b[1;32m   5458\u001b[0m             \u001b[0;32mif\u001b[0m \u001b[0mself\u001b[0m\u001b[0;34m.\u001b[0m\u001b[0m_info_axis\u001b[0m\u001b[0;34m.\u001b[0m\u001b[0m_can_hold_identifiers_and_holds_name\u001b[0m\u001b[0;34m(\u001b[0m\u001b[0mname\u001b[0m\u001b[0;34m)\u001b[0m\u001b[0;34m:\u001b[0m\u001b[0;34m\u001b[0m\u001b[0;34m\u001b[0m\u001b[0m\n\u001b[1;32m   5459\u001b[0m                 \u001b[0;32mreturn\u001b[0m \u001b[0mself\u001b[0m\u001b[0;34m[\u001b[0m\u001b[0mname\u001b[0m\u001b[0;34m]\u001b[0m\u001b[0;34m\u001b[0m\u001b[0;34m\u001b[0m\u001b[0m\n\u001b[0;32m-> 5460\u001b[0;31m             \u001b[0;32mreturn\u001b[0m \u001b[0mobject\u001b[0m\u001b[0;34m.\u001b[0m\u001b[0m__getattribute__\u001b[0m\u001b[0;34m(\u001b[0m\u001b[0mself\u001b[0m\u001b[0;34m,\u001b[0m \u001b[0mname\u001b[0m\u001b[0;34m)\u001b[0m\u001b[0;34m\u001b[0m\u001b[0;34m\u001b[0m\u001b[0m\n\u001b[0m\u001b[1;32m   5461\u001b[0m \u001b[0;34m\u001b[0m\u001b[0m\n\u001b[1;32m   5462\u001b[0m     \u001b[0;32mdef\u001b[0m \u001b[0m__setattr__\u001b[0m\u001b[0;34m(\u001b[0m\u001b[0mself\u001b[0m\u001b[0;34m,\u001b[0m \u001b[0mname\u001b[0m\u001b[0;34m:\u001b[0m \u001b[0mstr\u001b[0m\u001b[0;34m,\u001b[0m \u001b[0mvalue\u001b[0m\u001b[0;34m)\u001b[0m \u001b[0;34m->\u001b[0m \u001b[0;32mNone\u001b[0m\u001b[0;34m:\u001b[0m\u001b[0;34m\u001b[0m\u001b[0;34m\u001b[0m\u001b[0m\n",
      "\u001b[0;31mAttributeError\u001b[0m: 'Series' object has no attribute 'coords'"
     ]
    }
   ],
   "source": []
  },
  {
   "cell_type": "code",
   "execution_count": null,
   "metadata": {},
   "outputs": [],
   "source": []
  },
  {
   "cell_type": "markdown",
   "metadata": {},
   "source": [
    "These two forms of viewing our footprint are equivalent."
   ]
  },
  {
   "cell_type": "code",
   "execution_count": 18,
   "metadata": {},
   "outputs": [
    {
     "data": {
      "text/plain": [
       "array([0, 1, 2, 3, 4, 5, 6, 7, 8])"
      ]
     },
     "execution_count": 18,
     "metadata": {},
     "output_type": "execute_result"
    }
   ],
   "source": [
    "# form one\n",
    "raster_simple = np.arange(9)\n",
    "raster_simple"
   ]
  },
  {
   "cell_type": "code",
   "execution_count": 19,
   "metadata": {},
   "outputs": [
    {
     "data": {
      "text/plain": [
       "array([[0, 1, 2],\n",
       "       [3, 4, 5],\n",
       "       [6, 7, 8]])"
      ]
     },
     "execution_count": 19,
     "metadata": {},
     "output_type": "execute_result"
    }
   ],
   "source": [
    "# form two\n",
    "np.reshape(raster_simple, (3,3))"
   ]
  }
 ],
 "metadata": {
  "kernelspec": {
   "display_name": "Python 3",
   "language": "python",
   "name": "python3"
  },
  "language_info": {
   "codemirror_mode": {
    "name": "ipython",
    "version": 3
   },
   "file_extension": ".py",
   "mimetype": "text/x-python",
   "name": "python",
   "nbconvert_exporter": "python",
   "pygments_lexer": "ipython3",
   "version": "3.7.7"
  }
 },
 "nbformat": 4,
 "nbformat_minor": 4
}
